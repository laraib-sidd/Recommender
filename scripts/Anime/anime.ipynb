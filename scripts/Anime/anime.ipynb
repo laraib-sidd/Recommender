{
 "cells": [
  {
   "cell_type": "markdown",
   "metadata": {},
   "source": [
    "# Content Based Recommender System"
   ]
  },
  {
   "cell_type": "code",
   "execution_count": 49,
   "metadata": {},
   "outputs": [],
   "source": [
    "import numpy as np\n",
    "import pandas as pd\n",
    "import matplotlib.pyplot as plt\n",
    "from sklearn.metrics.pairwise import cosine_similarity\n",
    "%matplotlib inline"
   ]
  },
  {
   "cell_type": "code",
   "execution_count": 50,
   "metadata": {},
   "outputs": [
    {
     "output_type": "execute_result",
     "data": {
      "text/plain": "   anime_id                              name  \\\n0     32281                    Kimi no Na wa.   \n1      5114  Fullmetal Alchemist: Brotherhood   \n2     28977                          Gintama°   \n3      9253                       Steins;Gate   \n4      9969                     Gintama&#039;   \n\n                                               genre   type episodes  rating  \\\n0               Drama, Romance, School, Supernatural  Movie        1    9.37   \n1  Action, Adventure, Drama, Fantasy, Magic, Mili...     TV       64    9.26   \n2  Action, Comedy, Historical, Parody, Samurai, S...     TV       51    9.25   \n3                                   Sci-Fi, Thriller     TV       24    9.17   \n4  Action, Comedy, Historical, Parody, Samurai, S...     TV       51    9.16   \n\n   members  \n0   200630  \n1   793665  \n2   114262  \n3   673572  \n4   151266  ",
      "text/html": "<div>\n<style scoped>\n    .dataframe tbody tr th:only-of-type {\n        vertical-align: middle;\n    }\n\n    .dataframe tbody tr th {\n        vertical-align: top;\n    }\n\n    .dataframe thead th {\n        text-align: right;\n    }\n</style>\n<table border=\"1\" class=\"dataframe\">\n  <thead>\n    <tr style=\"text-align: right;\">\n      <th></th>\n      <th>anime_id</th>\n      <th>name</th>\n      <th>genre</th>\n      <th>type</th>\n      <th>episodes</th>\n      <th>rating</th>\n      <th>members</th>\n    </tr>\n  </thead>\n  <tbody>\n    <tr>\n      <th>0</th>\n      <td>32281</td>\n      <td>Kimi no Na wa.</td>\n      <td>Drama, Romance, School, Supernatural</td>\n      <td>Movie</td>\n      <td>1</td>\n      <td>9.37</td>\n      <td>200630</td>\n    </tr>\n    <tr>\n      <th>1</th>\n      <td>5114</td>\n      <td>Fullmetal Alchemist: Brotherhood</td>\n      <td>Action, Adventure, Drama, Fantasy, Magic, Mili...</td>\n      <td>TV</td>\n      <td>64</td>\n      <td>9.26</td>\n      <td>793665</td>\n    </tr>\n    <tr>\n      <th>2</th>\n      <td>28977</td>\n      <td>Gintama°</td>\n      <td>Action, Comedy, Historical, Parody, Samurai, S...</td>\n      <td>TV</td>\n      <td>51</td>\n      <td>9.25</td>\n      <td>114262</td>\n    </tr>\n    <tr>\n      <th>3</th>\n      <td>9253</td>\n      <td>Steins;Gate</td>\n      <td>Sci-Fi, Thriller</td>\n      <td>TV</td>\n      <td>24</td>\n      <td>9.17</td>\n      <td>673572</td>\n    </tr>\n    <tr>\n      <th>4</th>\n      <td>9969</td>\n      <td>Gintama&amp;#039;</td>\n      <td>Action, Comedy, Historical, Parody, Samurai, S...</td>\n      <td>TV</td>\n      <td>51</td>\n      <td>9.16</td>\n      <td>151266</td>\n    </tr>\n  </tbody>\n</table>\n</div>"
     },
     "metadata": {},
     "execution_count": 50
    }
   ],
   "source": [
    "df = pd.read_csv('anime.csv')\n",
    "df.head()"
   ]
  },
  {
   "cell_type": "code",
   "execution_count": 51,
   "metadata": {},
   "outputs": [
    {
     "output_type": "execute_result",
     "data": {
      "text/plain": "(12294, 7)"
     },
     "metadata": {},
     "execution_count": 51
    }
   ],
   "source": [
    "df.shape"
   ]
  },
  {
   "cell_type": "code",
   "execution_count": 52,
   "metadata": {},
   "outputs": [
    {
     "output_type": "execute_result",
     "data": {
      "text/plain": "anime_id      0\nname          0\ngenre        62\ntype         25\nepisodes      0\nrating      230\nmembers       0\ndtype: int64"
     },
     "metadata": {},
     "execution_count": 52
    }
   ],
   "source": [
    "df.isnull().sum()"
   ]
  },
  {
   "cell_type": "markdown",
   "metadata": {},
   "source": [
    "We are only building a recommendation system based on the genre and the type, so we are going to work on that only."
   ]
  },
  {
   "cell_type": "markdown",
   "metadata": {},
   "source": [
    "# Handling Missing Value"
   ]
  },
  {
   "cell_type": "markdown",
   "metadata": {},
   "source": [
    "## Handling Missing Rating"
   ]
  },
  {
   "cell_type": "code",
   "execution_count": 53,
   "metadata": {},
   "outputs": [
    {
     "output_type": "execute_result",
     "data": {
      "text/plain": "False"
     },
     "metadata": {},
     "execution_count": 53
    }
   ],
   "source": [
    "df.loc[df['rating'].isnull(), 'rating'] = 0.0\n",
    "df['rating'].isnull().any()"
   ]
  },
  {
   "cell_type": "markdown",
   "metadata": {},
   "source": [
    "## Handling Missing Types"
   ]
  },
  {
   "cell_type": "code",
   "execution_count": 54,
   "metadata": {},
   "outputs": [
    {
     "output_type": "display_data",
     "data": {
      "text/plain": "<Figure size 432x288 with 1 Axes>",
      "image/svg+xml": "<?xml version=\"1.0\" encoding=\"utf-8\" standalone=\"no\"?>\n<!DOCTYPE svg PUBLIC \"-//W3C//DTD SVG 1.1//EN\"\n  \"http://www.w3.org/Graphics/SVG/1.1/DTD/svg11.dtd\">\n<!-- Created with matplotlib (https://matplotlib.org/) -->\n<svg height=\"274.872812pt\" version=\"1.1\" viewBox=\"0 0 381.65 274.872812\" width=\"381.65pt\" xmlns=\"http://www.w3.org/2000/svg\" xmlns:xlink=\"http://www.w3.org/1999/xlink\">\n <defs>\n  <style type=\"text/css\">\n*{stroke-linecap:butt;stroke-linejoin:round;}\n  </style>\n </defs>\n <g id=\"figure_1\">\n  <g id=\"patch_1\">\n   <path d=\"M -0 274.872812 \nL 381.65 274.872812 \nL 381.65 0 \nL -0 0 \nz\n\" style=\"fill:none;\"/>\n  </g>\n  <g id=\"axes_1\">\n   <g id=\"patch_2\">\n    <path d=\"M 39.65 224.64 \nL 374.45 224.64 \nL 374.45 7.2 \nL 39.65 7.2 \nz\n\" style=\"fill:#ffffff;\"/>\n   </g>\n   <g id=\"patch_3\">\n    <path clip-path=\"url(#pbd35b1dc32)\" d=\"M 53.6 224.64 \nL 81.5 224.64 \nL 81.5 17.554286 \nL 53.6 17.554286 \nz\n\" style=\"fill:#1f77b4;\"/>\n   </g>\n   <g id=\"patch_4\">\n    <path clip-path=\"url(#pbd35b1dc32)\" d=\"M 109.4 224.64 \nL 137.3 224.64 \nL 137.3 43.583544 \nL 109.4 43.583544 \nz\n\" style=\"fill:#1f77b4;\"/>\n   </g>\n   <g id=\"patch_5\">\n    <path clip-path=\"url(#pbd35b1dc32)\" d=\"M 165.2 224.64 \nL 193.1 224.64 \nL 193.1 96.243576 \nL 165.2 96.243576 \nz\n\" style=\"fill:#1f77b4;\"/>\n   </g>\n   <g id=\"patch_6\">\n    <path clip-path=\"url(#pbd35b1dc32)\" d=\"M 221 224.64 \nL 248.9 224.64 \nL 248.9 132.990764 \nL 221 132.990764 \nz\n\" style=\"fill:#1f77b4;\"/>\n   </g>\n   <g id=\"patch_7\">\n    <path clip-path=\"url(#pbd35b1dc32)\" d=\"M 276.8 224.64 \nL 304.7 224.64 \nL 304.7 188.603695 \nL 276.8 188.603695 \nz\n\" style=\"fill:#1f77b4;\"/>\n   </g>\n   <g id=\"patch_8\">\n    <path clip-path=\"url(#pbd35b1dc32)\" d=\"M 332.6 224.64 \nL 360.5 224.64 \nL 360.5 197.954542 \nL 332.6 197.954542 \nz\n\" style=\"fill:#1f77b4;\"/>\n   </g>\n   <g id=\"matplotlib.axis_1\">\n    <g id=\"xtick_1\">\n     <g id=\"line2d_1\">\n      <defs>\n       <path d=\"M 0 0 \nL 0 3.5 \n\" id=\"m66865a1636\" style=\"stroke:#000000;stroke-width:0.8;\"/>\n      </defs>\n      <g>\n       <use style=\"stroke:#000000;stroke-width:0.8;\" x=\"67.55\" xlink:href=\"#m66865a1636\" y=\"224.64\"/>\n      </g>\n     </g>\n     <g id=\"text_1\">\n      <!-- TV -->\n      <defs>\n       <path d=\"M -0.296875 72.90625 \nL 61.375 72.90625 \nL 61.375 64.59375 \nL 35.5 64.59375 \nL 35.5 0 \nL 25.59375 0 \nL 25.59375 64.59375 \nL -0.296875 64.59375 \nz\n\" id=\"DejaVuSans-84\"/>\n       <path d=\"M 28.609375 0 \nL 0.78125 72.90625 \nL 11.078125 72.90625 \nL 34.1875 11.53125 \nL 57.328125 72.90625 \nL 67.578125 72.90625 \nL 39.796875 0 \nz\n\" id=\"DejaVuSans-86\"/>\n      </defs>\n      <g transform=\"translate(70.309375 244.588437)rotate(-90)scale(0.1 -0.1)\">\n       <use xlink:href=\"#DejaVuSans-84\"/>\n       <use x=\"61.083984\" xlink:href=\"#DejaVuSans-86\"/>\n      </g>\n     </g>\n    </g>\n    <g id=\"xtick_2\">\n     <g id=\"line2d_2\">\n      <g>\n       <use style=\"stroke:#000000;stroke-width:0.8;\" x=\"123.35\" xlink:href=\"#m66865a1636\" y=\"224.64\"/>\n      </g>\n     </g>\n     <g id=\"text_2\">\n      <!-- OVA -->\n      <defs>\n       <path d=\"M 39.40625 66.21875 \nQ 28.65625 66.21875 22.328125 58.203125 \nQ 16.015625 50.203125 16.015625 36.375 \nQ 16.015625 22.609375 22.328125 14.59375 \nQ 28.65625 6.59375 39.40625 6.59375 \nQ 50.140625 6.59375 56.421875 14.59375 \nQ 62.703125 22.609375 62.703125 36.375 \nQ 62.703125 50.203125 56.421875 58.203125 \nQ 50.140625 66.21875 39.40625 66.21875 \nz\nM 39.40625 74.21875 \nQ 54.734375 74.21875 63.90625 63.9375 \nQ 73.09375 53.65625 73.09375 36.375 \nQ 73.09375 19.140625 63.90625 8.859375 \nQ 54.734375 -1.421875 39.40625 -1.421875 \nQ 24.03125 -1.421875 14.8125 8.828125 \nQ 5.609375 19.09375 5.609375 36.375 \nQ 5.609375 53.65625 14.8125 63.9375 \nQ 24.03125 74.21875 39.40625 74.21875 \nz\n\" id=\"DejaVuSans-79\"/>\n       <path d=\"M 34.1875 63.1875 \nL 20.796875 26.90625 \nL 47.609375 26.90625 \nz\nM 28.609375 72.90625 \nL 39.796875 72.90625 \nL 67.578125 0 \nL 57.328125 0 \nL 50.6875 18.703125 \nL 17.828125 18.703125 \nL 11.1875 0 \nL 0.78125 0 \nz\n\" id=\"DejaVuSans-65\"/>\n      </defs>\n      <g transform=\"translate(126.109375 252.380625)rotate(-90)scale(0.1 -0.1)\">\n       <use xlink:href=\"#DejaVuSans-79\"/>\n       <use x=\"76.960938\" xlink:href=\"#DejaVuSans-86\"/>\n       <use x=\"138.994141\" xlink:href=\"#DejaVuSans-65\"/>\n      </g>\n     </g>\n    </g>\n    <g id=\"xtick_3\">\n     <g id=\"line2d_3\">\n      <g>\n       <use style=\"stroke:#000000;stroke-width:0.8;\" x=\"179.15\" xlink:href=\"#m66865a1636\" y=\"224.64\"/>\n      </g>\n     </g>\n     <g id=\"text_3\">\n      <!-- Movie -->\n      <defs>\n       <path d=\"M 9.8125 72.90625 \nL 24.515625 72.90625 \nL 43.109375 23.296875 \nL 61.8125 72.90625 \nL 76.515625 72.90625 \nL 76.515625 0 \nL 66.890625 0 \nL 66.890625 64.015625 \nL 48.09375 14.015625 \nL 38.1875 14.015625 \nL 19.390625 64.015625 \nL 19.390625 0 \nL 9.8125 0 \nz\n\" id=\"DejaVuSans-77\"/>\n       <path d=\"M 30.609375 48.390625 \nQ 23.390625 48.390625 19.1875 42.75 \nQ 14.984375 37.109375 14.984375 27.296875 \nQ 14.984375 17.484375 19.15625 11.84375 \nQ 23.34375 6.203125 30.609375 6.203125 \nQ 37.796875 6.203125 41.984375 11.859375 \nQ 46.1875 17.53125 46.1875 27.296875 \nQ 46.1875 37.015625 41.984375 42.703125 \nQ 37.796875 48.390625 30.609375 48.390625 \nz\nM 30.609375 56 \nQ 42.328125 56 49.015625 48.375 \nQ 55.71875 40.765625 55.71875 27.296875 \nQ 55.71875 13.875 49.015625 6.21875 \nQ 42.328125 -1.421875 30.609375 -1.421875 \nQ 18.84375 -1.421875 12.171875 6.21875 \nQ 5.515625 13.875 5.515625 27.296875 \nQ 5.515625 40.765625 12.171875 48.375 \nQ 18.84375 56 30.609375 56 \nz\n\" id=\"DejaVuSans-111\"/>\n       <path d=\"M 2.984375 54.6875 \nL 12.5 54.6875 \nL 29.59375 8.796875 \nL 46.6875 54.6875 \nL 56.203125 54.6875 \nL 35.6875 0 \nL 23.484375 0 \nz\n\" id=\"DejaVuSans-118\"/>\n       <path d=\"M 9.421875 54.6875 \nL 18.40625 54.6875 \nL 18.40625 0 \nL 9.421875 0 \nz\nM 9.421875 75.984375 \nL 18.40625 75.984375 \nL 18.40625 64.59375 \nL 9.421875 64.59375 \nz\n\" id=\"DejaVuSans-105\"/>\n       <path d=\"M 56.203125 29.59375 \nL 56.203125 25.203125 \nL 14.890625 25.203125 \nQ 15.484375 15.921875 20.484375 11.0625 \nQ 25.484375 6.203125 34.421875 6.203125 \nQ 39.59375 6.203125 44.453125 7.46875 \nQ 49.3125 8.734375 54.109375 11.28125 \nL 54.109375 2.78125 \nQ 49.265625 0.734375 44.1875 -0.34375 \nQ 39.109375 -1.421875 33.890625 -1.421875 \nQ 20.796875 -1.421875 13.15625 6.1875 \nQ 5.515625 13.8125 5.515625 26.8125 \nQ 5.515625 40.234375 12.765625 48.109375 \nQ 20.015625 56 32.328125 56 \nQ 43.359375 56 49.78125 48.890625 \nQ 56.203125 41.796875 56.203125 29.59375 \nz\nM 47.21875 32.234375 \nQ 47.125 39.59375 43.09375 43.984375 \nQ 39.0625 48.390625 32.421875 48.390625 \nQ 24.90625 48.390625 20.390625 44.140625 \nQ 15.875 39.890625 15.1875 32.171875 \nz\n\" id=\"DejaVuSans-101\"/>\n      </defs>\n      <g transform=\"translate(181.909375 261.236875)rotate(-90)scale(0.1 -0.1)\">\n       <use xlink:href=\"#DejaVuSans-77\"/>\n       <use x=\"86.279297\" xlink:href=\"#DejaVuSans-111\"/>\n       <use x=\"147.460938\" xlink:href=\"#DejaVuSans-118\"/>\n       <use x=\"206.640625\" xlink:href=\"#DejaVuSans-105\"/>\n       <use x=\"234.423828\" xlink:href=\"#DejaVuSans-101\"/>\n      </g>\n     </g>\n    </g>\n    <g id=\"xtick_4\">\n     <g id=\"line2d_4\">\n      <g>\n       <use style=\"stroke:#000000;stroke-width:0.8;\" x=\"234.95\" xlink:href=\"#m66865a1636\" y=\"224.64\"/>\n      </g>\n     </g>\n     <g id=\"text_4\">\n      <!-- Special -->\n      <defs>\n       <path d=\"M 53.515625 70.515625 \nL 53.515625 60.890625 \nQ 47.90625 63.578125 42.921875 64.890625 \nQ 37.9375 66.21875 33.296875 66.21875 \nQ 25.25 66.21875 20.875 63.09375 \nQ 16.5 59.96875 16.5 54.203125 \nQ 16.5 49.359375 19.40625 46.890625 \nQ 22.3125 44.4375 30.421875 42.921875 \nL 36.375 41.703125 \nQ 47.40625 39.59375 52.65625 34.296875 \nQ 57.90625 29 57.90625 20.125 \nQ 57.90625 9.515625 50.796875 4.046875 \nQ 43.703125 -1.421875 29.984375 -1.421875 \nQ 24.8125 -1.421875 18.96875 -0.25 \nQ 13.140625 0.921875 6.890625 3.21875 \nL 6.890625 13.375 \nQ 12.890625 10.015625 18.65625 8.296875 \nQ 24.421875 6.59375 29.984375 6.59375 \nQ 38.421875 6.59375 43.015625 9.90625 \nQ 47.609375 13.234375 47.609375 19.390625 \nQ 47.609375 24.75 44.3125 27.78125 \nQ 41.015625 30.8125 33.5 32.328125 \nL 27.484375 33.5 \nQ 16.453125 35.6875 11.515625 40.375 \nQ 6.59375 45.0625 6.59375 53.421875 \nQ 6.59375 63.09375 13.40625 68.65625 \nQ 20.21875 74.21875 32.171875 74.21875 \nQ 37.3125 74.21875 42.625 73.28125 \nQ 47.953125 72.359375 53.515625 70.515625 \nz\n\" id=\"DejaVuSans-83\"/>\n       <path d=\"M 18.109375 8.203125 \nL 18.109375 -20.796875 \nL 9.078125 -20.796875 \nL 9.078125 54.6875 \nL 18.109375 54.6875 \nL 18.109375 46.390625 \nQ 20.953125 51.265625 25.265625 53.625 \nQ 29.59375 56 35.59375 56 \nQ 45.5625 56 51.78125 48.09375 \nQ 58.015625 40.1875 58.015625 27.296875 \nQ 58.015625 14.40625 51.78125 6.484375 \nQ 45.5625 -1.421875 35.59375 -1.421875 \nQ 29.59375 -1.421875 25.265625 0.953125 \nQ 20.953125 3.328125 18.109375 8.203125 \nz\nM 48.6875 27.296875 \nQ 48.6875 37.203125 44.609375 42.84375 \nQ 40.53125 48.484375 33.40625 48.484375 \nQ 26.265625 48.484375 22.1875 42.84375 \nQ 18.109375 37.203125 18.109375 27.296875 \nQ 18.109375 17.390625 22.1875 11.75 \nQ 26.265625 6.109375 33.40625 6.109375 \nQ 40.53125 6.109375 44.609375 11.75 \nQ 48.6875 17.390625 48.6875 27.296875 \nz\n\" id=\"DejaVuSans-112\"/>\n       <path d=\"M 48.78125 52.59375 \nL 48.78125 44.1875 \nQ 44.96875 46.296875 41.140625 47.34375 \nQ 37.3125 48.390625 33.40625 48.390625 \nQ 24.65625 48.390625 19.8125 42.84375 \nQ 14.984375 37.3125 14.984375 27.296875 \nQ 14.984375 17.28125 19.8125 11.734375 \nQ 24.65625 6.203125 33.40625 6.203125 \nQ 37.3125 6.203125 41.140625 7.25 \nQ 44.96875 8.296875 48.78125 10.40625 \nL 48.78125 2.09375 \nQ 45.015625 0.34375 40.984375 -0.53125 \nQ 36.96875 -1.421875 32.421875 -1.421875 \nQ 20.0625 -1.421875 12.78125 6.34375 \nQ 5.515625 14.109375 5.515625 27.296875 \nQ 5.515625 40.671875 12.859375 48.328125 \nQ 20.21875 56 33.015625 56 \nQ 37.15625 56 41.109375 55.140625 \nQ 45.0625 54.296875 48.78125 52.59375 \nz\n\" id=\"DejaVuSans-99\"/>\n       <path d=\"M 34.28125 27.484375 \nQ 23.390625 27.484375 19.1875 25 \nQ 14.984375 22.515625 14.984375 16.5 \nQ 14.984375 11.71875 18.140625 8.90625 \nQ 21.296875 6.109375 26.703125 6.109375 \nQ 34.1875 6.109375 38.703125 11.40625 \nQ 43.21875 16.703125 43.21875 25.484375 \nL 43.21875 27.484375 \nz\nM 52.203125 31.203125 \nL 52.203125 0 \nL 43.21875 0 \nL 43.21875 8.296875 \nQ 40.140625 3.328125 35.546875 0.953125 \nQ 30.953125 -1.421875 24.3125 -1.421875 \nQ 15.921875 -1.421875 10.953125 3.296875 \nQ 6 8.015625 6 15.921875 \nQ 6 25.140625 12.171875 29.828125 \nQ 18.359375 34.515625 30.609375 34.515625 \nL 43.21875 34.515625 \nL 43.21875 35.40625 \nQ 43.21875 41.609375 39.140625 45 \nQ 35.0625 48.390625 27.6875 48.390625 \nQ 23 48.390625 18.546875 47.265625 \nQ 14.109375 46.140625 10.015625 43.890625 \nL 10.015625 52.203125 \nQ 14.9375 54.109375 19.578125 55.046875 \nQ 24.21875 56 28.609375 56 \nQ 40.484375 56 46.34375 49.84375 \nQ 52.203125 43.703125 52.203125 31.203125 \nz\n\" id=\"DejaVuSans-97\"/>\n       <path d=\"M 9.421875 75.984375 \nL 18.40625 75.984375 \nL 18.40625 0 \nL 9.421875 0 \nz\n\" id=\"DejaVuSans-108\"/>\n      </defs>\n      <g transform=\"translate(237.709375 267.672812)rotate(-90)scale(0.1 -0.1)\">\n       <use xlink:href=\"#DejaVuSans-83\"/>\n       <use x=\"63.476562\" xlink:href=\"#DejaVuSans-112\"/>\n       <use x=\"126.953125\" xlink:href=\"#DejaVuSans-101\"/>\n       <use x=\"188.476562\" xlink:href=\"#DejaVuSans-99\"/>\n       <use x=\"243.457031\" xlink:href=\"#DejaVuSans-105\"/>\n       <use x=\"271.240234\" xlink:href=\"#DejaVuSans-97\"/>\n       <use x=\"332.519531\" xlink:href=\"#DejaVuSans-108\"/>\n      </g>\n     </g>\n    </g>\n    <g id=\"xtick_5\">\n     <g id=\"line2d_5\">\n      <g>\n       <use style=\"stroke:#000000;stroke-width:0.8;\" x=\"290.75\" xlink:href=\"#m66865a1636\" y=\"224.64\"/>\n      </g>\n     </g>\n     <g id=\"text_5\">\n      <!-- ONA -->\n      <defs>\n       <path d=\"M 9.8125 72.90625 \nL 23.09375 72.90625 \nL 55.421875 11.921875 \nL 55.421875 72.90625 \nL 64.984375 72.90625 \nL 64.984375 0 \nL 51.703125 0 \nL 19.390625 60.984375 \nL 19.390625 0 \nL 9.8125 0 \nz\n\" id=\"DejaVuSans-78\"/>\n      </defs>\n      <g transform=\"translate(293.509375 253.83375)rotate(-90)scale(0.1 -0.1)\">\n       <use xlink:href=\"#DejaVuSans-79\"/>\n       <use x=\"78.710938\" xlink:href=\"#DejaVuSans-78\"/>\n       <use x=\"153.515625\" xlink:href=\"#DejaVuSans-65\"/>\n      </g>\n     </g>\n    </g>\n    <g id=\"xtick_6\">\n     <g id=\"line2d_6\">\n      <g>\n       <use style=\"stroke:#000000;stroke-width:0.8;\" x=\"346.55\" xlink:href=\"#m66865a1636\" y=\"224.64\"/>\n      </g>\n     </g>\n     <g id=\"text_6\">\n      <!-- Music -->\n      <defs>\n       <path d=\"M 8.5 21.578125 \nL 8.5 54.6875 \nL 17.484375 54.6875 \nL 17.484375 21.921875 \nQ 17.484375 14.15625 20.5 10.265625 \nQ 23.53125 6.390625 29.59375 6.390625 \nQ 36.859375 6.390625 41.078125 11.03125 \nQ 45.3125 15.671875 45.3125 23.6875 \nL 45.3125 54.6875 \nL 54.296875 54.6875 \nL 54.296875 0 \nL 45.3125 0 \nL 45.3125 8.40625 \nQ 42.046875 3.421875 37.71875 1 \nQ 33.40625 -1.421875 27.6875 -1.421875 \nQ 18.265625 -1.421875 13.375 4.4375 \nQ 8.5 10.296875 8.5 21.578125 \nz\nM 31.109375 56 \nz\n\" id=\"DejaVuSans-117\"/>\n       <path d=\"M 44.28125 53.078125 \nL 44.28125 44.578125 \nQ 40.484375 46.53125 36.375 47.5 \nQ 32.28125 48.484375 27.875 48.484375 \nQ 21.1875 48.484375 17.84375 46.4375 \nQ 14.5 44.390625 14.5 40.28125 \nQ 14.5 37.15625 16.890625 35.375 \nQ 19.28125 33.59375 26.515625 31.984375 \nL 29.59375 31.296875 \nQ 39.15625 29.25 43.1875 25.515625 \nQ 47.21875 21.78125 47.21875 15.09375 \nQ 47.21875 7.46875 41.1875 3.015625 \nQ 35.15625 -1.421875 24.609375 -1.421875 \nQ 20.21875 -1.421875 15.453125 -0.5625 \nQ 10.6875 0.296875 5.421875 2 \nL 5.421875 11.28125 \nQ 10.40625 8.6875 15.234375 7.390625 \nQ 20.0625 6.109375 24.8125 6.109375 \nQ 31.15625 6.109375 34.5625 8.28125 \nQ 37.984375 10.453125 37.984375 14.40625 \nQ 37.984375 18.0625 35.515625 20.015625 \nQ 33.0625 21.96875 24.703125 23.78125 \nL 21.578125 24.515625 \nQ 13.234375 26.265625 9.515625 29.90625 \nQ 5.8125 33.546875 5.8125 39.890625 \nQ 5.8125 47.609375 11.28125 51.796875 \nQ 16.75 56 26.8125 56 \nQ 31.78125 56 36.171875 55.265625 \nQ 40.578125 54.546875 44.28125 53.078125 \nz\n\" id=\"DejaVuSans-115\"/>\n      </defs>\n      <g transform=\"translate(349.309375 260.091562)rotate(-90)scale(0.1 -0.1)\">\n       <use xlink:href=\"#DejaVuSans-77\"/>\n       <use x=\"86.279297\" xlink:href=\"#DejaVuSans-117\"/>\n       <use x=\"149.658203\" xlink:href=\"#DejaVuSans-115\"/>\n       <use x=\"201.757812\" xlink:href=\"#DejaVuSans-105\"/>\n       <use x=\"229.541016\" xlink:href=\"#DejaVuSans-99\"/>\n      </g>\n     </g>\n    </g>\n   </g>\n   <g id=\"matplotlib.axis_2\">\n    <g id=\"ytick_1\">\n     <g id=\"line2d_7\">\n      <defs>\n       <path d=\"M 0 0 \nL -3.5 0 \n\" id=\"m82f50362e5\" style=\"stroke:#000000;stroke-width:0.8;\"/>\n      </defs>\n      <g>\n       <use style=\"stroke:#000000;stroke-width:0.8;\" x=\"39.65\" xlink:href=\"#m82f50362e5\" y=\"224.64\"/>\n      </g>\n     </g>\n     <g id=\"text_7\">\n      <!-- 0 -->\n      <defs>\n       <path d=\"M 31.78125 66.40625 \nQ 24.171875 66.40625 20.328125 58.90625 \nQ 16.5 51.421875 16.5 36.375 \nQ 16.5 21.390625 20.328125 13.890625 \nQ 24.171875 6.390625 31.78125 6.390625 \nQ 39.453125 6.390625 43.28125 13.890625 \nQ 47.125 21.390625 47.125 36.375 \nQ 47.125 51.421875 43.28125 58.90625 \nQ 39.453125 66.40625 31.78125 66.40625 \nz\nM 31.78125 74.21875 \nQ 44.046875 74.21875 50.515625 64.515625 \nQ 56.984375 54.828125 56.984375 36.375 \nQ 56.984375 17.96875 50.515625 8.265625 \nQ 44.046875 -1.421875 31.78125 -1.421875 \nQ 19.53125 -1.421875 13.0625 8.265625 \nQ 6.59375 17.96875 6.59375 36.375 \nQ 6.59375 54.828125 13.0625 64.515625 \nQ 19.53125 74.21875 31.78125 74.21875 \nz\n\" id=\"DejaVuSans-48\"/>\n      </defs>\n      <g transform=\"translate(26.2875 228.439219)scale(0.1 -0.1)\">\n       <use xlink:href=\"#DejaVuSans-48\"/>\n      </g>\n     </g>\n    </g>\n    <g id=\"ytick_2\">\n     <g id=\"line2d_8\">\n      <g>\n       <use style=\"stroke:#000000;stroke-width:0.8;\" x=\"39.65\" xlink:href=\"#m82f50362e5\" y=\"197.298342\"/>\n      </g>\n     </g>\n     <g id=\"text_8\">\n      <!-- 500 -->\n      <defs>\n       <path d=\"M 10.796875 72.90625 \nL 49.515625 72.90625 \nL 49.515625 64.59375 \nL 19.828125 64.59375 \nL 19.828125 46.734375 \nQ 21.96875 47.46875 24.109375 47.828125 \nQ 26.265625 48.1875 28.421875 48.1875 \nQ 40.625 48.1875 47.75 41.5 \nQ 54.890625 34.8125 54.890625 23.390625 \nQ 54.890625 11.625 47.5625 5.09375 \nQ 40.234375 -1.421875 26.90625 -1.421875 \nQ 22.3125 -1.421875 17.546875 -0.640625 \nQ 12.796875 0.140625 7.71875 1.703125 \nL 7.71875 11.625 \nQ 12.109375 9.234375 16.796875 8.0625 \nQ 21.484375 6.890625 26.703125 6.890625 \nQ 35.15625 6.890625 40.078125 11.328125 \nQ 45.015625 15.765625 45.015625 23.390625 \nQ 45.015625 31 40.078125 35.4375 \nQ 35.15625 39.890625 26.703125 39.890625 \nQ 22.75 39.890625 18.8125 39.015625 \nQ 14.890625 38.140625 10.796875 36.28125 \nz\n\" id=\"DejaVuSans-53\"/>\n      </defs>\n      <g transform=\"translate(13.5625 201.097561)scale(0.1 -0.1)\">\n       <use xlink:href=\"#DejaVuSans-53\"/>\n       <use x=\"63.623047\" xlink:href=\"#DejaVuSans-48\"/>\n       <use x=\"127.246094\" xlink:href=\"#DejaVuSans-48\"/>\n      </g>\n     </g>\n    </g>\n    <g id=\"ytick_3\">\n     <g id=\"line2d_9\">\n      <g>\n       <use style=\"stroke:#000000;stroke-width:0.8;\" x=\"39.65\" xlink:href=\"#m82f50362e5\" y=\"169.956685\"/>\n      </g>\n     </g>\n     <g id=\"text_9\">\n      <!-- 1000 -->\n      <defs>\n       <path d=\"M 12.40625 8.296875 \nL 28.515625 8.296875 \nL 28.515625 63.921875 \nL 10.984375 60.40625 \nL 10.984375 69.390625 \nL 28.421875 72.90625 \nL 38.28125 72.90625 \nL 38.28125 8.296875 \nL 54.390625 8.296875 \nL 54.390625 0 \nL 12.40625 0 \nz\n\" id=\"DejaVuSans-49\"/>\n      </defs>\n      <g transform=\"translate(7.2 173.755904)scale(0.1 -0.1)\">\n       <use xlink:href=\"#DejaVuSans-49\"/>\n       <use x=\"63.623047\" xlink:href=\"#DejaVuSans-48\"/>\n       <use x=\"127.246094\" xlink:href=\"#DejaVuSans-48\"/>\n       <use x=\"190.869141\" xlink:href=\"#DejaVuSans-48\"/>\n      </g>\n     </g>\n    </g>\n    <g id=\"ytick_4\">\n     <g id=\"line2d_10\">\n      <g>\n       <use style=\"stroke:#000000;stroke-width:0.8;\" x=\"39.65\" xlink:href=\"#m82f50362e5\" y=\"142.615027\"/>\n      </g>\n     </g>\n     <g id=\"text_10\">\n      <!-- 1500 -->\n      <g transform=\"translate(7.2 146.414246)scale(0.1 -0.1)\">\n       <use xlink:href=\"#DejaVuSans-49\"/>\n       <use x=\"63.623047\" xlink:href=\"#DejaVuSans-53\"/>\n       <use x=\"127.246094\" xlink:href=\"#DejaVuSans-48\"/>\n       <use x=\"190.869141\" xlink:href=\"#DejaVuSans-48\"/>\n      </g>\n     </g>\n    </g>\n    <g id=\"ytick_5\">\n     <g id=\"line2d_11\">\n      <g>\n       <use style=\"stroke:#000000;stroke-width:0.8;\" x=\"39.65\" xlink:href=\"#m82f50362e5\" y=\"115.27337\"/>\n      </g>\n     </g>\n     <g id=\"text_11\">\n      <!-- 2000 -->\n      <defs>\n       <path d=\"M 19.1875 8.296875 \nL 53.609375 8.296875 \nL 53.609375 0 \nL 7.328125 0 \nL 7.328125 8.296875 \nQ 12.9375 14.109375 22.625 23.890625 \nQ 32.328125 33.6875 34.8125 36.53125 \nQ 39.546875 41.84375 41.421875 45.53125 \nQ 43.3125 49.21875 43.3125 52.78125 \nQ 43.3125 58.59375 39.234375 62.25 \nQ 35.15625 65.921875 28.609375 65.921875 \nQ 23.96875 65.921875 18.8125 64.3125 \nQ 13.671875 62.703125 7.8125 59.421875 \nL 7.8125 69.390625 \nQ 13.765625 71.78125 18.9375 73 \nQ 24.125 74.21875 28.421875 74.21875 \nQ 39.75 74.21875 46.484375 68.546875 \nQ 53.21875 62.890625 53.21875 53.421875 \nQ 53.21875 48.921875 51.53125 44.890625 \nQ 49.859375 40.875 45.40625 35.40625 \nQ 44.1875 33.984375 37.640625 27.21875 \nQ 31.109375 20.453125 19.1875 8.296875 \nz\n\" id=\"DejaVuSans-50\"/>\n      </defs>\n      <g transform=\"translate(7.2 119.072589)scale(0.1 -0.1)\">\n       <use xlink:href=\"#DejaVuSans-50\"/>\n       <use x=\"63.623047\" xlink:href=\"#DejaVuSans-48\"/>\n       <use x=\"127.246094\" xlink:href=\"#DejaVuSans-48\"/>\n       <use x=\"190.869141\" xlink:href=\"#DejaVuSans-48\"/>\n      </g>\n     </g>\n    </g>\n    <g id=\"ytick_6\">\n     <g id=\"line2d_12\">\n      <g>\n       <use style=\"stroke:#000000;stroke-width:0.8;\" x=\"39.65\" xlink:href=\"#m82f50362e5\" y=\"87.931712\"/>\n      </g>\n     </g>\n     <g id=\"text_12\">\n      <!-- 2500 -->\n      <g transform=\"translate(7.2 91.730931)scale(0.1 -0.1)\">\n       <use xlink:href=\"#DejaVuSans-50\"/>\n       <use x=\"63.623047\" xlink:href=\"#DejaVuSans-53\"/>\n       <use x=\"127.246094\" xlink:href=\"#DejaVuSans-48\"/>\n       <use x=\"190.869141\" xlink:href=\"#DejaVuSans-48\"/>\n      </g>\n     </g>\n    </g>\n    <g id=\"ytick_7\">\n     <g id=\"line2d_13\">\n      <g>\n       <use style=\"stroke:#000000;stroke-width:0.8;\" x=\"39.65\" xlink:href=\"#m82f50362e5\" y=\"60.590055\"/>\n      </g>\n     </g>\n     <g id=\"text_13\">\n      <!-- 3000 -->\n      <defs>\n       <path d=\"M 40.578125 39.3125 \nQ 47.65625 37.796875 51.625 33 \nQ 55.609375 28.21875 55.609375 21.1875 \nQ 55.609375 10.40625 48.1875 4.484375 \nQ 40.765625 -1.421875 27.09375 -1.421875 \nQ 22.515625 -1.421875 17.65625 -0.515625 \nQ 12.796875 0.390625 7.625 2.203125 \nL 7.625 11.71875 \nQ 11.71875 9.328125 16.59375 8.109375 \nQ 21.484375 6.890625 26.8125 6.890625 \nQ 36.078125 6.890625 40.9375 10.546875 \nQ 45.796875 14.203125 45.796875 21.1875 \nQ 45.796875 27.640625 41.28125 31.265625 \nQ 36.765625 34.90625 28.71875 34.90625 \nL 20.21875 34.90625 \nL 20.21875 43.015625 \nL 29.109375 43.015625 \nQ 36.375 43.015625 40.234375 45.921875 \nQ 44.09375 48.828125 44.09375 54.296875 \nQ 44.09375 59.90625 40.109375 62.90625 \nQ 36.140625 65.921875 28.71875 65.921875 \nQ 24.65625 65.921875 20.015625 65.03125 \nQ 15.375 64.15625 9.8125 62.3125 \nL 9.8125 71.09375 \nQ 15.4375 72.65625 20.34375 73.4375 \nQ 25.25 74.21875 29.59375 74.21875 \nQ 40.828125 74.21875 47.359375 69.109375 \nQ 53.90625 64.015625 53.90625 55.328125 \nQ 53.90625 49.265625 50.4375 45.09375 \nQ 46.96875 40.921875 40.578125 39.3125 \nz\n\" id=\"DejaVuSans-51\"/>\n      </defs>\n      <g transform=\"translate(7.2 64.389273)scale(0.1 -0.1)\">\n       <use xlink:href=\"#DejaVuSans-51\"/>\n       <use x=\"63.623047\" xlink:href=\"#DejaVuSans-48\"/>\n       <use x=\"127.246094\" xlink:href=\"#DejaVuSans-48\"/>\n       <use x=\"190.869141\" xlink:href=\"#DejaVuSans-48\"/>\n      </g>\n     </g>\n    </g>\n    <g id=\"ytick_8\">\n     <g id=\"line2d_14\">\n      <g>\n       <use style=\"stroke:#000000;stroke-width:0.8;\" x=\"39.65\" xlink:href=\"#m82f50362e5\" y=\"33.248397\"/>\n      </g>\n     </g>\n     <g id=\"text_14\">\n      <!-- 3500 -->\n      <g transform=\"translate(7.2 37.047616)scale(0.1 -0.1)\">\n       <use xlink:href=\"#DejaVuSans-51\"/>\n       <use x=\"63.623047\" xlink:href=\"#DejaVuSans-53\"/>\n       <use x=\"127.246094\" xlink:href=\"#DejaVuSans-48\"/>\n       <use x=\"190.869141\" xlink:href=\"#DejaVuSans-48\"/>\n      </g>\n     </g>\n    </g>\n   </g>\n   <g id=\"patch_9\">\n    <path d=\"M 39.65 224.64 \nL 39.65 7.2 \n\" style=\"fill:none;stroke:#000000;stroke-linecap:square;stroke-linejoin:miter;stroke-width:0.8;\"/>\n   </g>\n   <g id=\"patch_10\">\n    <path d=\"M 374.45 224.64 \nL 374.45 7.2 \n\" style=\"fill:none;stroke:#000000;stroke-linecap:square;stroke-linejoin:miter;stroke-width:0.8;\"/>\n   </g>\n   <g id=\"patch_11\">\n    <path d=\"M 39.65 224.64 \nL 374.45 224.64 \n\" style=\"fill:none;stroke:#000000;stroke-linecap:square;stroke-linejoin:miter;stroke-width:0.8;\"/>\n   </g>\n   <g id=\"patch_12\">\n    <path d=\"M 39.65 7.2 \nL 374.45 7.2 \n\" style=\"fill:none;stroke:#000000;stroke-linecap:square;stroke-linejoin:miter;stroke-width:0.8;\"/>\n   </g>\n  </g>\n </g>\n <defs>\n  <clipPath id=\"pbd35b1dc32\">\n   <rect height=\"217.44\" width=\"334.8\" x=\"39.65\" y=\"7.2\"/>\n  </clipPath>\n </defs>\n</svg>\n",
      "image/png": "[encoded data removed]"
     },
     "metadata": {
      "needs_background": "light"
     }
    }
   ],
   "source": [
    "df['type'].value_counts().plot.bar();"
   ]
  },
  {
   "cell_type": "markdown",
   "metadata": {},
   "source": [
    "The approach to fill missing type based on the number of the episodes. But after checking the data, some of the anime have 'unkonwn' episode and missing type."
   ]
  },
  {
   "cell_type": "code",
   "execution_count": 55,
   "metadata": {},
   "outputs": [
    {
     "output_type": "execute_result",
     "data": {
      "text/plain": "       anime_id                             name  \\\n10898     30484                    Steins;Gate 0   \n10900     34437  Code Geass: Fukkatsu no Lelouch   \n10906     33352                Violet Evergarden   \n10907     33248                 K: Seven Stories   \n10918     33845                 Free! (Shinsaku)   \n\n                                                   genre type episodes  \\\n10898                                   Sci-Fi, Thriller  NaN  Unknown   \n10900  Action, Drama, Mecha, Military, Sci-Fi, Super ...  NaN  Unknown   \n10906                                     Drama, Fantasy  NaN  Unknown   \n10907           Action, Drama, Super Power, Supernatural  NaN  Unknown   \n10918                                     School, Sports  NaN  Unknown   \n\n       rating  members  \n10898     0.0    60999  \n10900     0.0    22748  \n10906     0.0    20564  \n10907     0.0    22133  \n10918     0.0     8666  ",
      "text/html": "<div>\n<style scoped>\n    .dataframe tbody tr th:only-of-type {\n        vertical-align: middle;\n    }\n\n    .dataframe tbody tr th {\n        vertical-align: top;\n    }\n\n    .dataframe thead th {\n        text-align: right;\n    }\n</style>\n<table border=\"1\" class=\"dataframe\">\n  <thead>\n    <tr style=\"text-align: right;\">\n      <th></th>\n      <th>anime_id</th>\n      <th>name</th>\n      <th>genre</th>\n      <th>type</th>\n      <th>episodes</th>\n      <th>rating</th>\n      <th>members</th>\n    </tr>\n  </thead>\n  <tbody>\n    <tr>\n      <th>10898</th>\n      <td>30484</td>\n      <td>Steins;Gate 0</td>\n      <td>Sci-Fi, Thriller</td>\n      <td>NaN</td>\n      <td>Unknown</td>\n      <td>0.0</td>\n      <td>60999</td>\n    </tr>\n    <tr>\n      <th>10900</th>\n      <td>34437</td>\n      <td>Code Geass: Fukkatsu no Lelouch</td>\n      <td>Action, Drama, Mecha, Military, Sci-Fi, Super ...</td>\n      <td>NaN</td>\n      <td>Unknown</td>\n      <td>0.0</td>\n      <td>22748</td>\n    </tr>\n    <tr>\n      <th>10906</th>\n      <td>33352</td>\n      <td>Violet Evergarden</td>\n      <td>Drama, Fantasy</td>\n      <td>NaN</td>\n      <td>Unknown</td>\n      <td>0.0</td>\n      <td>20564</td>\n    </tr>\n    <tr>\n      <th>10907</th>\n      <td>33248</td>\n      <td>K: Seven Stories</td>\n      <td>Action, Drama, Super Power, Supernatural</td>\n      <td>NaN</td>\n      <td>Unknown</td>\n      <td>0.0</td>\n      <td>22133</td>\n    </tr>\n    <tr>\n      <th>10918</th>\n      <td>33845</td>\n      <td>Free! (Shinsaku)</td>\n      <td>School, Sports</td>\n      <td>NaN</td>\n      <td>Unknown</td>\n      <td>0.0</td>\n      <td>8666</td>\n    </tr>\n  </tbody>\n</table>\n</div>"
     },
     "metadata": {},
     "execution_count": 55
    }
   ],
   "source": [
    "df.loc[(df['episodes']=='Unknown') & (df['type'].isnull())].head()"
   ]
  },
  {
   "cell_type": "code",
   "execution_count": 56,
   "metadata": {},
   "outputs": [
    {
     "output_type": "execute_result",
     "data": {
      "text/plain": "(25, 7)"
     },
     "metadata": {},
     "execution_count": 56
    }
   ],
   "source": [
    "missing = df.loc[(df['episodes']=='Unknown') & (df['type'].isnull())].copy()\n",
    "missing.shape"
   ]
  },
  {
   "cell_type": "code",
   "execution_count": 57,
   "metadata": {},
   "outputs": [
    {
     "output_type": "execute_result",
     "data": {
      "text/plain": "       anime_id                              name  \\\n10898     30484                     Steins;Gate 0   \n10900     34437   Code Geass: Fukkatsu no Lelouch   \n10906     33352                 Violet Evergarden   \n10907     33248                  K: Seven Stories   \n10918     33845                  Free! (Shinsaku)   \n10949     33475     Busou Shoujo Machiavellianism   \n10963     31456  Code:Realize: Sousei no Himegimi   \n10983     34332                     Flying Babies   \n10988     34280                           Gamers!   \n10990     34485                        Ganko-chan   \n10991     32455                           Gekidol   \n10994     31433       Ginga Eiyuu Densetsu (2017)   \n10995     28613            Ginga Jinpuu Jinraiger   \n10998     34279                   Grancrest Senki   \n11010     33899                          IDOLiSH7   \n11013     34012                   Isekai Shokudou   \n11041     30448                       Mirai Arise   \n11053     34262            Oushitsu Kyoushi Haine   \n11055     33185   Peace Maker Kurogane (Shinsaku)   \n11058     24023                        Project758   \n11062     34348                   Rescue Academia   \n11070     32032                   Seikaisuru Kado   \n11101     33478                        UQ Holder!   \n12252     34382                            Citrus   \n12259     33654                Hitorijime My Hero   \n\n                                                   genre type episodes  \\\n10898                                   Sci-Fi, Thriller  NaN  Unknown   \n10900  Action, Drama, Mecha, Military, Sci-Fi, Super ...  NaN  Unknown   \n10906                                     Drama, Fantasy  NaN  Unknown   \n10907           Action, Drama, Super Power, Supernatural  NaN  Unknown   \n10918                                     School, Sports  NaN  Unknown   \n10949                            Action, School, Shounen  NaN  Unknown   \n10963                Adventure, Fantasy, Romance, Shoujo  NaN  Unknown   \n10983                                                NaN  NaN  Unknown   \n10988                            Comedy, Romance, School  NaN  Unknown   \n10990                                                NaN  NaN  Unknown   \n10991                                              Music  NaN  Unknown   \n10994             Action, Drama, Military, Sci-Fi, Space  NaN  Unknown   \n10995                           Action, Adventure, Mecha  NaN  Unknown   \n10998                                    Action, Fantasy  NaN  Unknown   \n11010                                      Music, Shoujo  NaN  Unknown   \n11013                           Comedy, Fantasy, Mystery  NaN  Unknown   \n11041                                             Sci-Fi  NaN  Unknown   \n11053                        Comedy, Historical, Shounen  NaN  Unknown   \n11055       Action, Comedy, Historical, Samurai, Shounen  NaN  Unknown   \n11058                                              Drama  NaN  Unknown   \n11062                                              Drama  NaN  Unknown   \n11070                                                NaN  NaN  Unknown   \n11101            Action, Fantasy, Magic, Sci-Fi, Shounen  NaN  Unknown   \n12252                       Drama, Romance, School, Yuri  NaN  Unknown   \n12259                                               Yaoi  NaN  Unknown   \n\n       rating  members  \n10898     0.0    60999  \n10900     0.0    22748  \n10906     0.0    20564  \n10907     0.0    22133  \n10918     0.0     8666  \n10949     0.0     1896  \n10963     0.0     4017  \n10983     0.0       22  \n10988     0.0     1045  \n10990     0.0       11  \n10991     0.0      586  \n10994     0.0     3969  \n10995     0.0      627  \n10998     0.0      360  \n11010     0.0     1048  \n11013     0.0      749  \n11041     0.0     4044  \n11053     0.0      321  \n11055     0.0      939  \n11058     0.0      455  \n11062     0.0       65  \n11070     0.0     1797  \n11101     0.0     2341  \n12252     0.0     2459  \n12259     0.0     1574  ",
      "text/html": "<div>\n<style scoped>\n    .dataframe tbody tr th:only-of-type {\n        vertical-align: middle;\n    }\n\n    .dataframe tbody tr th {\n        vertical-align: top;\n    }\n\n    .dataframe thead th {\n        text-align: right;\n    }\n</style>\n<table border=\"1\" class=\"dataframe\">\n  <thead>\n    <tr style=\"text-align: right;\">\n      <th></th>\n      <th>anime_id</th>\n      <th>name</th>\n      <th>genre</th>\n      <th>type</th>\n      <th>episodes</th>\n      <th>rating</th>\n      <th>members</th>\n    </tr>\n  </thead>\n  <tbody>\n    <tr>\n      <th>10898</th>\n      <td>30484</td>\n      <td>Steins;Gate 0</td>\n      <td>Sci-Fi, Thriller</td>\n      <td>NaN</td>\n      <td>Unknown</td>\n      <td>0.0</td>\n      <td>60999</td>\n    </tr>\n    <tr>\n      <th>10900</th>\n      <td>34437</td>\n      <td>Code Geass: Fukkatsu no Lelouch</td>\n      <td>Action, Drama, Mecha, Military, Sci-Fi, Super ...</td>\n      <td>NaN</td>\n      <td>Unknown</td>\n      <td>0.0</td>\n      <td>22748</td>\n    </tr>\n    <tr>\n      <th>10906</th>\n      <td>33352</td>\n      <td>Violet Evergarden</td>\n      <td>Drama, Fantasy</td>\n      <td>NaN</td>\n      <td>Unknown</td>\n      <td>0.0</td>\n      <td>20564</td>\n    </tr>\n    <tr>\n      <th>10907</th>\n      <td>33248</td>\n      <td>K: Seven Stories</td>\n      <td>Action, Drama, Super Power, Supernatural</td>\n      <td>NaN</td>\n      <td>Unknown</td>\n      <td>0.0</td>\n      <td>22133</td>\n    </tr>\n    <tr>\n      <th>10918</th>\n      <td>33845</td>\n      <td>Free! (Shinsaku)</td>\n      <td>School, Sports</td>\n      <td>NaN</td>\n      <td>Unknown</td>\n      <td>0.0</td>\n      <td>8666</td>\n    </tr>\n    <tr>\n      <th>10949</th>\n      <td>33475</td>\n      <td>Busou Shoujo Machiavellianism</td>\n      <td>Action, School, Shounen</td>\n      <td>NaN</td>\n      <td>Unknown</td>\n      <td>0.0</td>\n      <td>1896</td>\n    </tr>\n    <tr>\n      <th>10963</th>\n      <td>31456</td>\n      <td>Code:Realize: Sousei no Himegimi</td>\n      <td>Adventure, Fantasy, Romance, Shoujo</td>\n      <td>NaN</td>\n      <td>Unknown</td>\n      <td>0.0</td>\n      <td>4017</td>\n    </tr>\n    <tr>\n      <th>10983</th>\n      <td>34332</td>\n      <td>Flying Babies</td>\n      <td>NaN</td>\n      <td>NaN</td>\n      <td>Unknown</td>\n      <td>0.0</td>\n      <td>22</td>\n    </tr>\n    <tr>\n      <th>10988</th>\n      <td>34280</td>\n      <td>Gamers!</td>\n      <td>Comedy, Romance, School</td>\n      <td>NaN</td>\n      <td>Unknown</td>\n      <td>0.0</td>\n      <td>1045</td>\n    </tr>\n    <tr>\n      <th>10990</th>\n      <td>34485</td>\n      <td>Ganko-chan</td>\n      <td>NaN</td>\n      <td>NaN</td>\n      <td>Unknown</td>\n      <td>0.0</td>\n      <td>11</td>\n    </tr>\n    <tr>\n      <th>10991</th>\n      <td>32455</td>\n      <td>Gekidol</td>\n      <td>Music</td>\n      <td>NaN</td>\n      <td>Unknown</td>\n      <td>0.0</td>\n      <td>586</td>\n    </tr>\n    <tr>\n      <th>10994</th>\n      <td>31433</td>\n      <td>Ginga Eiyuu Densetsu (2017)</td>\n      <td>Action, Drama, Military, Sci-Fi, Space</td>\n      <td>NaN</td>\n      <td>Unknown</td>\n      <td>0.0</td>\n      <td>3969</td>\n    </tr>\n    <tr>\n      <th>10995</th>\n      <td>28613</td>\n      <td>Ginga Jinpuu Jinraiger</td>\n      <td>Action, Adventure, Mecha</td>\n      <td>NaN</td>\n      <td>Unknown</td>\n      <td>0.0</td>\n      <td>627</td>\n    </tr>\n    <tr>\n      <th>10998</th>\n      <td>34279</td>\n      <td>Grancrest Senki</td>\n      <td>Action, Fantasy</td>\n      <td>NaN</td>\n      <td>Unknown</td>\n      <td>0.0</td>\n      <td>360</td>\n    </tr>\n    <tr>\n      <th>11010</th>\n      <td>33899</td>\n      <td>IDOLiSH7</td>\n      <td>Music, Shoujo</td>\n      <td>NaN</td>\n      <td>Unknown</td>\n      <td>0.0</td>\n      <td>1048</td>\n    </tr>\n    <tr>\n      <th>11013</th>\n      <td>34012</td>\n      <td>Isekai Shokudou</td>\n      <td>Comedy, Fantasy, Mystery</td>\n      <td>NaN</td>\n      <td>Unknown</td>\n      <td>0.0</td>\n      <td>749</td>\n    </tr>\n    <tr>\n      <th>11041</th>\n      <td>30448</td>\n      <td>Mirai Arise</td>\n      <td>Sci-Fi</td>\n      <td>NaN</td>\n      <td>Unknown</td>\n      <td>0.0</td>\n      <td>4044</td>\n    </tr>\n    <tr>\n      <th>11053</th>\n      <td>34262</td>\n      <td>Oushitsu Kyoushi Haine</td>\n      <td>Comedy, Historical, Shounen</td>\n      <td>NaN</td>\n      <td>Unknown</td>\n      <td>0.0</td>\n      <td>321</td>\n    </tr>\n    <tr>\n      <th>11055</th>\n      <td>33185</td>\n      <td>Peace Maker Kurogane (Shinsaku)</td>\n      <td>Action, Comedy, Historical, Samurai, Shounen</td>\n      <td>NaN</td>\n      <td>Unknown</td>\n      <td>0.0</td>\n      <td>939</td>\n    </tr>\n    <tr>\n      <th>11058</th>\n      <td>24023</td>\n      <td>Project758</td>\n      <td>Drama</td>\n      <td>NaN</td>\n      <td>Unknown</td>\n      <td>0.0</td>\n      <td>455</td>\n    </tr>\n    <tr>\n      <th>11062</th>\n      <td>34348</td>\n      <td>Rescue Academia</td>\n      <td>Drama</td>\n      <td>NaN</td>\n      <td>Unknown</td>\n      <td>0.0</td>\n      <td>65</td>\n    </tr>\n    <tr>\n      <th>11070</th>\n      <td>32032</td>\n      <td>Seikaisuru Kado</td>\n      <td>NaN</td>\n      <td>NaN</td>\n      <td>Unknown</td>\n      <td>0.0</td>\n      <td>1797</td>\n    </tr>\n    <tr>\n      <th>11101</th>\n      <td>33478</td>\n      <td>UQ Holder!</td>\n      <td>Action, Fantasy, Magic, Sci-Fi, Shounen</td>\n      <td>NaN</td>\n      <td>Unknown</td>\n      <td>0.0</td>\n      <td>2341</td>\n    </tr>\n    <tr>\n      <th>12252</th>\n      <td>34382</td>\n      <td>Citrus</td>\n      <td>Drama, Romance, School, Yuri</td>\n      <td>NaN</td>\n      <td>Unknown</td>\n      <td>0.0</td>\n      <td>2459</td>\n    </tr>\n    <tr>\n      <th>12259</th>\n      <td>33654</td>\n      <td>Hitorijime My Hero</td>\n      <td>Yaoi</td>\n      <td>NaN</td>\n      <td>Unknown</td>\n      <td>0.0</td>\n      <td>1574</td>\n    </tr>\n  </tbody>\n</table>\n</div>"
     },
     "metadata": {},
     "execution_count": 57
    }
   ],
   "source": [
    "# Viewign the missign Database\n",
    "missing"
   ]
  },
  {
   "cell_type": "markdown",
   "metadata": {},
   "source": [
    "It seems teh data is not up to date with the current season. There is no other way, We have to manually fill teh type and the episodes."
   ]
  },
  {
   "cell_type": "code",
   "execution_count": 58,
   "metadata": {},
   "outputs": [],
   "source": [
    "df.loc[(df['name'] == 'Steins;Gate 0'), 'type'] = 'TV'\n",
    "df.loc[(df['name'] == 'Steins;Gate 0'), 'episodes'] = '23'\n",
    "\n",
    "df.loc[(df['name'] == 'Violet Evergarden'), 'type'] = 'TV'\n",
    "df.loc[(df['name'] == 'Violet Evergarden'), 'episodes'] = '13'\n",
    "\n",
    "df.loc[(df['name'] == 'Code Geass: Fukkatsu no Lelouch'), 'type'] = 'TV'\n",
    "df.loc[(df['name'] == 'Code Geass: Fukkatsu no Lelouch'), 'episodes'] = '25'\n",
    "\n",
    "df.loc[(df['name'] == 'K: Seven Stories'), 'type'] = 'Movie'\n",
    "df.loc[(df['name'] == 'K: Seven Stories'), 'episodes'] = '6'\n",
    "\n",
    "df.loc[(df['name'] == 'Free! (Shinsaku)'), 'type'] = 'TV'\n",
    "df.loc[(df['name'] == 'Free! (Shinsaku)'), 'episodes'] = '12'\n",
    "\n",
    "df.loc[(df['name'] == 'Busou Shoujo Machiavellianism'), 'type'] = 'TV'\n",
    "df.loc[(df['name'] == 'Busou Shoujo Machiavellianism'), 'episodes'] = '12'\n",
    "\n",
    "df.loc[(df['name'] == 'Code:Realize: Sousei no Himegimi'), 'type'] = 'TV'\n",
    "df.loc[(df['name'] == 'Code:Realize: Sousei no Himegimi'), 'episodes'] = '12'\n",
    "\n",
    "df.loc[(df['name'] == 'Gamers!'), 'type'] = 'TV'\n",
    "df.loc[(df['name'] == 'Gamers!'), 'episodes'] = '12'\n",
    "\n",
    "df.loc[(df['name'] == 'Ganko-chan'), 'type'] = 'TV'\n",
    "df.loc[(df['name'] == 'Ganko-chan'), 'episodes'] = '10'\n",
    "\n",
    "df.loc[(df['name'] == 'Ginga Eiyuu Densetsu (2017)'), 'type'] = 'OVA'\n",
    "df.loc[(df['name'] == 'Ginga Eiyuu Densetsu (2017)'), 'episodes'] = '110'\n",
    "\n",
    "df.loc[(df['name'] == 'Grancrest Senki'), 'type'] = 'TV'\n",
    "df.loc[(df['name'] == 'Grancrest Senki'), 'episodes'] = '24'\n",
    "\n",
    "df.loc[(df['name'] == 'IDOLiSH7'), 'type'] = 'TV'\n",
    "df.loc[(df['name'] == 'IDOLiSH7'), 'episodes'] = '17'\n",
    "\n",
    "df.loc[(df['name'] == 'Isekai Shokudou'), 'type'] = 'TV'\n",
    "df.loc[(df['name'] == 'Isekai Shokudou'), 'episodes'] = '12'\n",
    "\n",
    "df.loc[(df['name'] == 'Oushitsu Kyoushi Haine'), 'type'] = 'TV'\n",
    "df.loc[(df['name'] == 'Oushitsu Kyoushi Haine'), 'episodes'] = '12'\n",
    "\n",
    "df.loc[(df['name'] == 'Peace Maker Kurogane (Shinsaku)'), 'type'] = 'TV'\n",
    "df.loc[(df['name'] == 'Peace Maker Kurogane (Shinsaku)'), 'episodes'] = '23'\n",
    "\n",
    "df.loc[(df['name'] == 'Seikaisuru Kado'), 'type'] = 'TV'\n",
    "df.loc[(df['name'] == 'Seikaisuru Kado'), 'episodes'] = '12'\n",
    "\n",
    "df.loc[(df['name'] == 'UQ Holder!'), 'type'] = 'TV'\n",
    "df.loc[(df['name'] == 'UQ Holder!'), 'episodes'] = '12'\n",
    "\n",
    "df.loc[(df['name'] == 'Citrus'), 'type'] = 'TV'\n",
    "df.loc[(df['name'] == 'Citrus'), 'episodes'] = '12'\n",
    "\n",
    "df.loc[(df['name'] == 'Hitorijime My Hero'), 'type'] = 'TV'\n",
    "df.loc[(df['name'] == 'Hitorijime My Hero'), 'episodes'] = '12'\n"
   ]
  },
  {
   "cell_type": "code",
   "execution_count": 59,
   "metadata": {},
   "outputs": [
    {
     "output_type": "execute_result",
     "data": {
      "text/plain": "anime_id     0\nname         0\ngenre       62\ntype         6\nepisodes     0\nrating       0\nmembers      0\ndtype: int64"
     },
     "metadata": {},
     "execution_count": 59
    }
   ],
   "source": [
    "df.isnull().sum()"
   ]
  },
  {
   "cell_type": "markdown",
   "metadata": {},
   "source": [
    "There are still some Unknown 'type', because it has not yet aired. I will drop those anime."
   ]
  },
  {
   "cell_type": "code",
   "execution_count": 60,
   "metadata": {},
   "outputs": [
    {
     "output_type": "execute_result",
     "data": {
      "text/plain": "(12288, 7)"
     },
     "metadata": {},
     "execution_count": 60
    }
   ],
   "source": [
    "df.dropna(subset=['type'], inplace=True)\n",
    "df.shape"
   ]
  },
  {
   "cell_type": "markdown",
   "metadata": {},
   "source": [
    "## Handling Unkown Genre"
   ]
  },
  {
   "cell_type": "code",
   "execution_count": 61,
   "metadata": {},
   "outputs": [
    {
     "output_type": "execute_result",
     "data": {
      "text/plain": "anime_id     0\nname         0\ngenre       61\ntype         0\nepisodes     0\nrating       0\nmembers      0\ndtype: int64"
     },
     "metadata": {},
     "execution_count": 61
    }
   ],
   "source": [
    "df.isnull().sum()"
   ]
  },
  {
   "cell_type": "code",
   "execution_count": 62,
   "metadata": {},
   "outputs": [
    {
     "output_type": "execute_result",
     "data": {
      "text/plain": "       anime_id                                               name genre  \\\n2844      33242          IS: Infinite Stratos 2 - Infinite Wedding   NaN   \n3541      33589                                      ViVid Strike!   NaN   \n6040      29765                                  Metropolis (2009)   NaN   \n6646      32695                                       Match Shoujo   NaN   \n7018      33187                                   Katsudou Shashin   NaN   \n...         ...                                                ...   ...   \n11070     32032                                    Seikaisuru Kado   NaN   \n11086     34310  Tamagotchi Movie: Tanpen Himitsu no Otodoke Da...   NaN   \n11097     34474                             Tsukipro The Animation   NaN   \n11112     33035                                  Yuyushiki Special   NaN   \n11113     33390                                      Zunda Horizon   NaN   \n\n          type episodes  rating  members  \n2844   Special        1    7.15     6604  \n3541        TV       12    6.96    12345  \n6040     Movie        1    6.27      313  \n6646       ONA        1    6.02      242  \n7018     Movie        1    5.79      607  \n...        ...      ...     ...      ...  \n11070       TV       12    0.00     1797  \n11086    Movie        1    0.00       51  \n11097       TV  Unknown    0.00      843  \n11112  Special        1    0.00     2294  \n11113    Movie        1    0.00      160  \n\n[61 rows x 7 columns]",
      "text/html": "<div>\n<style scoped>\n    .dataframe tbody tr th:only-of-type {\n        vertical-align: middle;\n    }\n\n    .dataframe tbody tr th {\n        vertical-align: top;\n    }\n\n    .dataframe thead th {\n        text-align: right;\n    }\n</style>\n<table border=\"1\" class=\"dataframe\">\n  <thead>\n    <tr style=\"text-align: right;\">\n      <th></th>\n      <th>anime_id</th>\n      <th>name</th>\n      <th>genre</th>\n      <th>type</th>\n      <th>episodes</th>\n      <th>rating</th>\n      <th>members</th>\n    </tr>\n  </thead>\n  <tbody>\n    <tr>\n      <th>2844</th>\n      <td>33242</td>\n      <td>IS: Infinite Stratos 2 - Infinite Wedding</td>\n      <td>NaN</td>\n      <td>Special</td>\n      <td>1</td>\n      <td>7.15</td>\n      <td>6604</td>\n    </tr>\n    <tr>\n      <th>3541</th>\n      <td>33589</td>\n      <td>ViVid Strike!</td>\n      <td>NaN</td>\n      <td>TV</td>\n      <td>12</td>\n      <td>6.96</td>\n      <td>12345</td>\n    </tr>\n    <tr>\n      <th>6040</th>\n      <td>29765</td>\n      <td>Metropolis (2009)</td>\n      <td>NaN</td>\n      <td>Movie</td>\n      <td>1</td>\n      <td>6.27</td>\n      <td>313</td>\n    </tr>\n    <tr>\n      <th>6646</th>\n      <td>32695</td>\n      <td>Match Shoujo</td>\n      <td>NaN</td>\n      <td>ONA</td>\n      <td>1</td>\n      <td>6.02</td>\n      <td>242</td>\n    </tr>\n    <tr>\n      <th>7018</th>\n      <td>33187</td>\n      <td>Katsudou Shashin</td>\n      <td>NaN</td>\n      <td>Movie</td>\n      <td>1</td>\n      <td>5.79</td>\n      <td>607</td>\n    </tr>\n    <tr>\n      <th>...</th>\n      <td>...</td>\n      <td>...</td>\n      <td>...</td>\n      <td>...</td>\n      <td>...</td>\n      <td>...</td>\n      <td>...</td>\n    </tr>\n    <tr>\n      <th>11070</th>\n      <td>32032</td>\n      <td>Seikaisuru Kado</td>\n      <td>NaN</td>\n      <td>TV</td>\n      <td>12</td>\n      <td>0.00</td>\n      <td>1797</td>\n    </tr>\n    <tr>\n      <th>11086</th>\n      <td>34310</td>\n      <td>Tamagotchi Movie: Tanpen Himitsu no Otodoke Da...</td>\n      <td>NaN</td>\n      <td>Movie</td>\n      <td>1</td>\n      <td>0.00</td>\n      <td>51</td>\n    </tr>\n    <tr>\n      <th>11097</th>\n      <td>34474</td>\n      <td>Tsukipro The Animation</td>\n      <td>NaN</td>\n      <td>TV</td>\n      <td>Unknown</td>\n      <td>0.00</td>\n      <td>843</td>\n    </tr>\n    <tr>\n      <th>11112</th>\n      <td>33035</td>\n      <td>Yuyushiki Special</td>\n      <td>NaN</td>\n      <td>Special</td>\n      <td>1</td>\n      <td>0.00</td>\n      <td>2294</td>\n    </tr>\n    <tr>\n      <th>11113</th>\n      <td>33390</td>\n      <td>Zunda Horizon</td>\n      <td>NaN</td>\n      <td>Movie</td>\n      <td>1</td>\n      <td>0.00</td>\n      <td>160</td>\n    </tr>\n  </tbody>\n</table>\n<p>61 rows × 7 columns</p>\n</div>"
     },
     "metadata": {},
     "execution_count": 62
    }
   ],
   "source": [
    "df[df['genre'].isnull()]"
   ]
  },
  {
   "cell_type": "markdown",
   "metadata": {},
   "source": [
    "For now, let's just fill it with 'Unknown'."
   ]
  },
  {
   "cell_type": "code",
   "execution_count": 63,
   "metadata": {},
   "outputs": [
    {
     "output_type": "execute_result",
     "data": {
      "text/plain": "anime_id    False\nname        False\ngenre       False\ntype        False\nepisodes    False\nrating      False\nmembers     False\ndtype: bool"
     },
     "metadata": {},
     "execution_count": 63
    }
   ],
   "source": [
    "df['genre'].fillna('Unknown', inplace=True)\n",
    "df.isnull().any()"
   ]
  },
  {
   "cell_type": "markdown",
   "metadata": {},
   "source": [
    "# Build the recommender System"
   ]
  },
  {
   "cell_type": "markdown",
   "metadata": {},
   "source": [
    "### Calculate Weighted Rating\n",
    "\n",
    "Maybe it is also a good idea to show the weighted rating to the user whenever they query for similar anime. We can improve their respective weighted rating."
   ]
  },
  {
   "cell_type": "code",
   "execution_count": 64,
   "metadata": {
    "tags": []
   },
   "outputs": [
    {
     "output_type": "stream",
     "name": "stdout",
     "text": "9448.5 6.355887858072916\n"
    }
   ],
   "source": [
    "m = df.members.quantile(0.75)\n",
    "c = df.rating.mean()\n",
    "print(m, c)"
   ]
  },
  {
   "cell_type": "code",
   "execution_count": 65,
   "metadata": {},
   "outputs": [],
   "source": [
    "def weighted_rating(df, m, c):\n",
    "    term = df['members'] / (m + df['members'])\n",
    "    return df['rating'] * term + (1-term) * c"
   ]
  },
  {
   "cell_type": "code",
   "execution_count": 66,
   "metadata": {},
   "outputs": [
    {
     "output_type": "execute_result",
     "data": {
      "text/plain": "   anime_id                              name  \\\n0     32281                    Kimi no Na wa.   \n1      5114  Fullmetal Alchemist: Brotherhood   \n2     28977                          Gintama°   \n3      9253                       Steins;Gate   \n4      9969                     Gintama&#039;   \n\n                                               genre   type episodes  rating  \\\n0               Drama, Romance, School, Supernatural  Movie        1    9.37   \n1  Action, Adventure, Drama, Fantasy, Magic, Mili...     TV       64    9.26   \n2  Action, Comedy, Historical, Parody, Samurai, S...     TV       51    9.25   \n3                                   Sci-Fi, Thriller     TV       24    9.17   \n4  Action, Comedy, Historical, Parody, Samurai, S...     TV       51    9.16   \n\n   members  community_rating  \n0   200630          9.234437  \n1   793665          9.225834  \n2   114262          9.028960  \n3   673572          9.131071  \n4   151266          8.995145  ",
      "text/html": "<div>\n<style scoped>\n    .dataframe tbody tr th:only-of-type {\n        vertical-align: middle;\n    }\n\n    .dataframe tbody tr th {\n        vertical-align: top;\n    }\n\n    .dataframe thead th {\n        text-align: right;\n    }\n</style>\n<table border=\"1\" class=\"dataframe\">\n  <thead>\n    <tr style=\"text-align: right;\">\n      <th></th>\n      <th>anime_id</th>\n      <th>name</th>\n      <th>genre</th>\n      <th>type</th>\n      <th>episodes</th>\n      <th>rating</th>\n      <th>members</th>\n      <th>community_rating</th>\n    </tr>\n  </thead>\n  <tbody>\n    <tr>\n      <th>0</th>\n      <td>32281</td>\n      <td>Kimi no Na wa.</td>\n      <td>Drama, Romance, School, Supernatural</td>\n      <td>Movie</td>\n      <td>1</td>\n      <td>9.37</td>\n      <td>200630</td>\n      <td>9.234437</td>\n    </tr>\n    <tr>\n      <th>1</th>\n      <td>5114</td>\n      <td>Fullmetal Alchemist: Brotherhood</td>\n      <td>Action, Adventure, Drama, Fantasy, Magic, Mili...</td>\n      <td>TV</td>\n      <td>64</td>\n      <td>9.26</td>\n      <td>793665</td>\n      <td>9.225834</td>\n    </tr>\n    <tr>\n      <th>2</th>\n      <td>28977</td>\n      <td>Gintama°</td>\n      <td>Action, Comedy, Historical, Parody, Samurai, S...</td>\n      <td>TV</td>\n      <td>51</td>\n      <td>9.25</td>\n      <td>114262</td>\n      <td>9.028960</td>\n    </tr>\n    <tr>\n      <th>3</th>\n      <td>9253</td>\n      <td>Steins;Gate</td>\n      <td>Sci-Fi, Thriller</td>\n      <td>TV</td>\n      <td>24</td>\n      <td>9.17</td>\n      <td>673572</td>\n      <td>9.131071</td>\n    </tr>\n    <tr>\n      <th>4</th>\n      <td>9969</td>\n      <td>Gintama&amp;#039;</td>\n      <td>Action, Comedy, Historical, Parody, Samurai, S...</td>\n      <td>TV</td>\n      <td>51</td>\n      <td>9.16</td>\n      <td>151266</td>\n      <td>8.995145</td>\n    </tr>\n  </tbody>\n</table>\n</div>"
     },
     "metadata": {},
     "execution_count": 66
    }
   ],
   "source": [
    "df['community_rating'] = df.apply(weighted_rating, axis = 1, args=(m, c))\n",
    "df.head()"
   ]
  },
  {
   "cell_type": "markdown",
   "metadata": {},
   "source": [
    "## Dropping some unused columns\n",
    "These are the features that will be dropped:\n",
    "* anime_id -> just the index of the anime, it is easier if we use panda's index.\n",
    "* rating -> we have weighted_rating(community_rating)\n",
    "* episodes -> the data that we have is not updated with the airing anime, and some anime is stil airing(One piece, etc.)\n"
   ]
  },
  {
   "cell_type": "code",
   "execution_count": 67,
   "metadata": {},
   "outputs": [
    {
     "output_type": "execute_result",
     "data": {
      "text/plain": "                               name  \\\n0                    Kimi no Na wa.   \n1  Fullmetal Alchemist: Brotherhood   \n2                          Gintama°   \n3                       Steins;Gate   \n4                     Gintama&#039;   \n\n                                               genre   type  community_rating  \n0               Drama, Romance, School, Supernatural  Movie          9.234437  \n1  Action, Adventure, Drama, Fantasy, Magic, Mili...     TV          9.225834  \n2  Action, Comedy, Historical, Parody, Samurai, S...     TV          9.028960  \n3                                   Sci-Fi, Thriller     TV          9.131071  \n4  Action, Comedy, Historical, Parody, Samurai, S...     TV          8.995145  ",
      "text/html": "<div>\n<style scoped>\n    .dataframe tbody tr th:only-of-type {\n        vertical-align: middle;\n    }\n\n    .dataframe tbody tr th {\n        vertical-align: top;\n    }\n\n    .dataframe thead th {\n        text-align: right;\n    }\n</style>\n<table border=\"1\" class=\"dataframe\">\n  <thead>\n    <tr style=\"text-align: right;\">\n      <th></th>\n      <th>name</th>\n      <th>genre</th>\n      <th>type</th>\n      <th>community_rating</th>\n    </tr>\n  </thead>\n  <tbody>\n    <tr>\n      <th>0</th>\n      <td>Kimi no Na wa.</td>\n      <td>Drama, Romance, School, Supernatural</td>\n      <td>Movie</td>\n      <td>9.234437</td>\n    </tr>\n    <tr>\n      <th>1</th>\n      <td>Fullmetal Alchemist: Brotherhood</td>\n      <td>Action, Adventure, Drama, Fantasy, Magic, Mili...</td>\n      <td>TV</td>\n      <td>9.225834</td>\n    </tr>\n    <tr>\n      <th>2</th>\n      <td>Gintama°</td>\n      <td>Action, Comedy, Historical, Parody, Samurai, S...</td>\n      <td>TV</td>\n      <td>9.028960</td>\n    </tr>\n    <tr>\n      <th>3</th>\n      <td>Steins;Gate</td>\n      <td>Sci-Fi, Thriller</td>\n      <td>TV</td>\n      <td>9.131071</td>\n    </tr>\n    <tr>\n      <th>4</th>\n      <td>Gintama&amp;#039;</td>\n      <td>Action, Comedy, Historical, Parody, Samurai, S...</td>\n      <td>TV</td>\n      <td>8.995145</td>\n    </tr>\n  </tbody>\n</table>\n</div>"
     },
     "metadata": {},
     "execution_count": 67
    }
   ],
   "source": [
    "df.drop(['anime_id', 'rating', 'members', 'episodes'], axis=1, inplace=True)\n",
    "df.head()"
   ]
  },
  {
   "cell_type": "markdown",
   "metadata": {},
   "source": [
    "## Breakdown the genre and type\n",
    "We want our algorithm to treat the 'type' and 'genre' of anime as equal. Therefore if we use label encoding, maybe algorithm will treat a certain category more important than the other categories."
   ]
  },
  {
   "cell_type": "code",
   "execution_count": 68,
   "metadata": {},
   "outputs": [
    {
     "output_type": "execute_result",
     "data": {
      "text/plain": "                               name  \\\n0                    Kimi no Na wa.   \n1  Fullmetal Alchemist: Brotherhood   \n2                          Gintama°   \n3                       Steins;Gate   \n4                     Gintama&#039;   \n\n                                               genre   type  community_rating  \\\n0               Drama, Romance, School, Supernatural  Movie          9.234437   \n1  Action, Adventure, Drama, Fantasy, Magic, Mili...     TV          9.225834   \n2  Action, Comedy, Historical, Parody, Samurai, S...     TV          9.028960   \n3                                   Sci-Fi, Thriller     TV          9.131071   \n4  Action, Comedy, Historical, Parody, Samurai, S...     TV          8.995145   \n\n   Movie  Music  ONA  OVA  Special  TV  ...  Shounen  Slice of Life  Space  \\\n0      1      0    0    0        0   0  ...        0              0      0   \n1      0      0    0    0        0   1  ...        0              0      0   \n2      0      0    0    0        0   1  ...        0              0      0   \n3      0      0    0    0        0   1  ...        0              0      0   \n4      0      0    0    0        0   1  ...        0              0      0   \n\n   Sports  Super Power  Supernatural  Thriller  Unknown  Vampire  Yaoi  \n0       0            0             0         0        0        0     0  \n1       0            0             0         0        0        0     0  \n2       0            0             0         0        0        0     0  \n3       0            0             0         0        0        0     0  \n4       0            0             0         0        0        0     0  \n\n[5 rows x 93 columns]",
      "text/html": "<div>\n<style scoped>\n    .dataframe tbody tr th:only-of-type {\n        vertical-align: middle;\n    }\n\n    .dataframe tbody tr th {\n        vertical-align: top;\n    }\n\n    .dataframe thead th {\n        text-align: right;\n    }\n</style>\n<table border=\"1\" class=\"dataframe\">\n  <thead>\n    <tr style=\"text-align: right;\">\n      <th></th>\n      <th>name</th>\n      <th>genre</th>\n      <th>type</th>\n      <th>community_rating</th>\n      <th>Movie</th>\n      <th>Music</th>\n      <th>ONA</th>\n      <th>OVA</th>\n      <th>Special</th>\n      <th>TV</th>\n      <th>...</th>\n      <th>Shounen</th>\n      <th>Slice of Life</th>\n      <th>Space</th>\n      <th>Sports</th>\n      <th>Super Power</th>\n      <th>Supernatural</th>\n      <th>Thriller</th>\n      <th>Unknown</th>\n      <th>Vampire</th>\n      <th>Yaoi</th>\n    </tr>\n  </thead>\n  <tbody>\n    <tr>\n      <th>0</th>\n      <td>Kimi no Na wa.</td>\n      <td>Drama, Romance, School, Supernatural</td>\n      <td>Movie</td>\n      <td>9.234437</td>\n      <td>1</td>\n      <td>0</td>\n      <td>0</td>\n      <td>0</td>\n      <td>0</td>\n      <td>0</td>\n      <td>...</td>\n      <td>0</td>\n      <td>0</td>\n      <td>0</td>\n      <td>0</td>\n      <td>0</td>\n      <td>0</td>\n      <td>0</td>\n      <td>0</td>\n      <td>0</td>\n      <td>0</td>\n    </tr>\n    <tr>\n      <th>1</th>\n      <td>Fullmetal Alchemist: Brotherhood</td>\n      <td>Action, Adventure, Drama, Fantasy, Magic, Mili...</td>\n      <td>TV</td>\n      <td>9.225834</td>\n      <td>0</td>\n      <td>0</td>\n      <td>0</td>\n      <td>0</td>\n      <td>0</td>\n      <td>1</td>\n      <td>...</td>\n      <td>0</td>\n      <td>0</td>\n      <td>0</td>\n      <td>0</td>\n      <td>0</td>\n      <td>0</td>\n      <td>0</td>\n      <td>0</td>\n      <td>0</td>\n      <td>0</td>\n    </tr>\n    <tr>\n      <th>2</th>\n      <td>Gintama°</td>\n      <td>Action, Comedy, Historical, Parody, Samurai, S...</td>\n      <td>TV</td>\n      <td>9.028960</td>\n      <td>0</td>\n      <td>0</td>\n      <td>0</td>\n      <td>0</td>\n      <td>0</td>\n      <td>1</td>\n      <td>...</td>\n      <td>0</td>\n      <td>0</td>\n      <td>0</td>\n      <td>0</td>\n      <td>0</td>\n      <td>0</td>\n      <td>0</td>\n      <td>0</td>\n      <td>0</td>\n      <td>0</td>\n    </tr>\n    <tr>\n      <th>3</th>\n      <td>Steins;Gate</td>\n      <td>Sci-Fi, Thriller</td>\n      <td>TV</td>\n      <td>9.131071</td>\n      <td>0</td>\n      <td>0</td>\n      <td>0</td>\n      <td>0</td>\n      <td>0</td>\n      <td>1</td>\n      <td>...</td>\n      <td>0</td>\n      <td>0</td>\n      <td>0</td>\n      <td>0</td>\n      <td>0</td>\n      <td>0</td>\n      <td>0</td>\n      <td>0</td>\n      <td>0</td>\n      <td>0</td>\n    </tr>\n    <tr>\n      <th>4</th>\n      <td>Gintama&amp;#039;</td>\n      <td>Action, Comedy, Historical, Parody, Samurai, S...</td>\n      <td>TV</td>\n      <td>8.995145</td>\n      <td>0</td>\n      <td>0</td>\n      <td>0</td>\n      <td>0</td>\n      <td>0</td>\n      <td>1</td>\n      <td>...</td>\n      <td>0</td>\n      <td>0</td>\n      <td>0</td>\n      <td>0</td>\n      <td>0</td>\n      <td>0</td>\n      <td>0</td>\n      <td>0</td>\n      <td>0</td>\n      <td>0</td>\n    </tr>\n  </tbody>\n</table>\n<p>5 rows × 93 columns</p>\n</div>"
     },
     "metadata": {},
     "execution_count": 68
    }
   ],
   "source": [
    "df = pd.concat([df,df['type'].str.get_dummies(), df['genre'].str.get_dummies(sep = ',')],axis=1)\n",
    "df.head()"
   ]
  },
  {
   "cell_type": "code",
   "execution_count": 69,
   "metadata": {},
   "outputs": [
    {
     "output_type": "execute_result",
     "data": {
      "text/plain": "   Movie  Music  ONA  OVA  Special  TV   Adventure   Cars   Comedy   Dementia  \\\n0      1      0    0    0        0   0           0      0        0          0   \n1      0      0    0    0        0   1           1      0        0          0   \n2      0      0    0    0        0   1           0      0        1          0   \n3      0      0    0    0        0   1           0      0        0          0   \n4      0      0    0    0        0   1           0      0        1          0   \n\n   ...  Shounen  Slice of Life  Space  Sports  Super Power  Supernatural  \\\n0  ...        0              0      0       0            0             0   \n1  ...        0              0      0       0            0             0   \n2  ...        0              0      0       0            0             0   \n3  ...        0              0      0       0            0             0   \n4  ...        0              0      0       0            0             0   \n\n   Thriller  Unknown  Vampire  Yaoi  \n0         0        0        0     0  \n1         0        0        0     0  \n2         0        0        0     0  \n3         0        0        0     0  \n4         0        0        0     0  \n\n[5 rows x 89 columns]",
      "text/html": "<div>\n<style scoped>\n    .dataframe tbody tr th:only-of-type {\n        vertical-align: middle;\n    }\n\n    .dataframe tbody tr th {\n        vertical-align: top;\n    }\n\n    .dataframe thead th {\n        text-align: right;\n    }\n</style>\n<table border=\"1\" class=\"dataframe\">\n  <thead>\n    <tr style=\"text-align: right;\">\n      <th></th>\n      <th>Movie</th>\n      <th>Music</th>\n      <th>ONA</th>\n      <th>OVA</th>\n      <th>Special</th>\n      <th>TV</th>\n      <th>Adventure</th>\n      <th>Cars</th>\n      <th>Comedy</th>\n      <th>Dementia</th>\n      <th>...</th>\n      <th>Shounen</th>\n      <th>Slice of Life</th>\n      <th>Space</th>\n      <th>Sports</th>\n      <th>Super Power</th>\n      <th>Supernatural</th>\n      <th>Thriller</th>\n      <th>Unknown</th>\n      <th>Vampire</th>\n      <th>Yaoi</th>\n    </tr>\n  </thead>\n  <tbody>\n    <tr>\n      <th>0</th>\n      <td>1</td>\n      <td>0</td>\n      <td>0</td>\n      <td>0</td>\n      <td>0</td>\n      <td>0</td>\n      <td>0</td>\n      <td>0</td>\n      <td>0</td>\n      <td>0</td>\n      <td>...</td>\n      <td>0</td>\n      <td>0</td>\n      <td>0</td>\n      <td>0</td>\n      <td>0</td>\n      <td>0</td>\n      <td>0</td>\n      <td>0</td>\n      <td>0</td>\n      <td>0</td>\n    </tr>\n    <tr>\n      <th>1</th>\n      <td>0</td>\n      <td>0</td>\n      <td>0</td>\n      <td>0</td>\n      <td>0</td>\n      <td>1</td>\n      <td>1</td>\n      <td>0</td>\n      <td>0</td>\n      <td>0</td>\n      <td>...</td>\n      <td>0</td>\n      <td>0</td>\n      <td>0</td>\n      <td>0</td>\n      <td>0</td>\n      <td>0</td>\n      <td>0</td>\n      <td>0</td>\n      <td>0</td>\n      <td>0</td>\n    </tr>\n    <tr>\n      <th>2</th>\n      <td>0</td>\n      <td>0</td>\n      <td>0</td>\n      <td>0</td>\n      <td>0</td>\n      <td>1</td>\n      <td>0</td>\n      <td>0</td>\n      <td>1</td>\n      <td>0</td>\n      <td>...</td>\n      <td>0</td>\n      <td>0</td>\n      <td>0</td>\n      <td>0</td>\n      <td>0</td>\n      <td>0</td>\n      <td>0</td>\n      <td>0</td>\n      <td>0</td>\n      <td>0</td>\n    </tr>\n    <tr>\n      <th>3</th>\n      <td>0</td>\n      <td>0</td>\n      <td>0</td>\n      <td>0</td>\n      <td>0</td>\n      <td>1</td>\n      <td>0</td>\n      <td>0</td>\n      <td>0</td>\n      <td>0</td>\n      <td>...</td>\n      <td>0</td>\n      <td>0</td>\n      <td>0</td>\n      <td>0</td>\n      <td>0</td>\n      <td>0</td>\n      <td>0</td>\n      <td>0</td>\n      <td>0</td>\n      <td>0</td>\n    </tr>\n    <tr>\n      <th>4</th>\n      <td>0</td>\n      <td>0</td>\n      <td>0</td>\n      <td>0</td>\n      <td>0</td>\n      <td>1</td>\n      <td>0</td>\n      <td>0</td>\n      <td>1</td>\n      <td>0</td>\n      <td>...</td>\n      <td>0</td>\n      <td>0</td>\n      <td>0</td>\n      <td>0</td>\n      <td>0</td>\n      <td>0</td>\n      <td>0</td>\n      <td>0</td>\n      <td>0</td>\n      <td>0</td>\n    </tr>\n  </tbody>\n</table>\n<p>5 rows × 89 columns</p>\n</div>"
     },
     "metadata": {},
     "execution_count": 69
    }
   ],
   "source": [
    "anime_features = df.loc[:, \"Movie\":].copy()\n",
    "anime_features.head()\n",
    "\n"
   ]
  },
  {
   "cell_type": "markdown",
   "metadata": {},
   "source": [
    "## Calculate the similarity matrix"
   ]
  },
  {
   "cell_type": "code",
   "execution_count": 70,
   "metadata": {},
   "outputs": [
    {
     "output_type": "execute_result",
     "data": {
      "text/plain": "array([[1.        , 0.        , 0.        , ..., 0.        , 0.        ,\n        0.31622777],\n       [0.        , 1.        , 0.375     , ..., 0.        , 0.        ,\n        0.        ],\n       [0.        , 0.375     , 1.        , ..., 0.        , 0.        ,\n        0.        ],\n       ...,\n       [0.        , 0.        , 0.        , ..., 1.        , 1.        ,\n        0.5       ],\n       [0.        , 0.        , 0.        , ..., 1.        , 1.        ,\n        0.5       ],\n       [0.31622777, 0.        , 0.        , ..., 0.5       , 0.5       ,\n        1.        ]])"
     },
     "metadata": {},
     "execution_count": 70
    }
   ],
   "source": [
    "cosine_sim = cosine_similarity(anime_features.values,\n",
    "anime_features.values)\n",
    "cosine_sim"
   ]
  },
  {
   "cell_type": "code",
   "execution_count": 71,
   "metadata": {},
   "outputs": [
    {
     "output_type": "execute_result",
     "data": {
      "text/plain": "(12288, 12288)"
     },
     "metadata": {},
     "execution_count": 71
    }
   ],
   "source": [
    "cosine_sim.shape"
   ]
  },
  {
   "cell_type": "markdown",
   "metadata": {},
   "source": [
    "Now we must create an indexing for each anime name, this will be used when user querying a recommendation.                                                                                                                                                                                                                                                                                                                                                                                                                                                                                                                                                                                                                                                  "
   ]
  },
  {
   "cell_type": "code",
   "execution_count": 72,
   "metadata": {},
   "outputs": [],
   "source": [
    "anime_index = pd.Series(df.index, index=df.name).drop_duplicates()"
   ]
  },
  {
   "cell_type": "code",
   "execution_count": 73,
   "metadata": {},
   "outputs": [],
   "source": [
    "def anime_recommendation(anime_name, similarity=cosine_sim):\n",
    "    idx = anime_index[anime_name]\n",
    "\n",
    "    # Get the pairwise simalirity scores of all anime with that anime\n",
    "    sim_scores = list(enumerate(cosine_sim[idx]))\n",
    "    \n",
    "    # Sort the anime based on the simalirity scores\n",
    "    sim_scores = sorted(sim_scores,key=lambda x:x[1],reverse= True)\n",
    "\n",
    "    # Get the scores of the 10 most similar anime\n",
    "    sim_scores = sim_scores[0:11]\n",
    "\n",
    "    # Get the anime indices\n",
    "    anime_indices = [i[0] for i in sim_scores]\n",
    "\n",
    "    # Return the top 10 most similar anime\n",
    "    result = df[['name','genre','community_rating']].iloc[anime_indices].drop(idx)\n",
    "\n",
    "    return result"
   ]
  },
  {
   "cell_type": "code",
   "execution_count": 74,
   "metadata": {},
   "outputs": [
    {
     "output_type": "execute_result",
     "data": {
      "text/plain": "                                                    name             genre  \\\n10898                                      Steins;Gate 0  Sci-Fi, Thriller   \n3581                                   Fireball Charming            Sci-Fi   \n7984                                              Hanoka            Sci-Fi   \n8910                                   Hoshi no Ko Poron            Sci-Fi   \n10079                                             RoboDz            Sci-Fi   \n10858                                       Yuusei Kamen            Sci-Fi   \n10975                                        Escha Chron            Sci-Fi   \n59            Steins;Gate Movie: Fuka Ryouiki no Déjà vu  Sci-Fi, Thriller   \n126                Steins;Gate: Oukoubakko no Poriomania  Sci-Fi, Thriller   \n196    Steins;Gate: Kyoukaimenjou no Missing Link - D...  Sci-Fi, Thriller   \n\n       community_rating  \n10898          0.852459  \n3581           6.574226  \n7984           6.040040  \n8910           6.360831  \n10079          6.338184  \n10858          6.356795  \n10975          5.861462  \n59             8.504498  \n126            8.342360  \n196            7.946121  ",
      "text/html": "<div>\n<style scoped>\n    .dataframe tbody tr th:only-of-type {\n        vertical-align: middle;\n    }\n\n    .dataframe tbody tr th {\n        vertical-align: top;\n    }\n\n    .dataframe thead th {\n        text-align: right;\n    }\n</style>\n<table border=\"1\" class=\"dataframe\">\n  <thead>\n    <tr style=\"text-align: right;\">\n      <th></th>\n      <th>name</th>\n      <th>genre</th>\n      <th>community_rating</th>\n    </tr>\n  </thead>\n  <tbody>\n    <tr>\n      <th>10898</th>\n      <td>Steins;Gate 0</td>\n      <td>Sci-Fi, Thriller</td>\n      <td>0.852459</td>\n    </tr>\n    <tr>\n      <th>3581</th>\n      <td>Fireball Charming</td>\n      <td>Sci-Fi</td>\n      <td>6.574226</td>\n    </tr>\n    <tr>\n      <th>7984</th>\n      <td>Hanoka</td>\n      <td>Sci-Fi</td>\n      <td>6.040040</td>\n    </tr>\n    <tr>\n      <th>8910</th>\n      <td>Hoshi no Ko Poron</td>\n      <td>Sci-Fi</td>\n      <td>6.360831</td>\n    </tr>\n    <tr>\n      <th>10079</th>\n      <td>RoboDz</td>\n      <td>Sci-Fi</td>\n      <td>6.338184</td>\n    </tr>\n    <tr>\n      <th>10858</th>\n      <td>Yuusei Kamen</td>\n      <td>Sci-Fi</td>\n      <td>6.356795</td>\n    </tr>\n    <tr>\n      <th>10975</th>\n      <td>Escha Chron</td>\n      <td>Sci-Fi</td>\n      <td>5.861462</td>\n    </tr>\n    <tr>\n      <th>59</th>\n      <td>Steins;Gate Movie: Fuka Ryouiki no Déjà vu</td>\n      <td>Sci-Fi, Thriller</td>\n      <td>8.504498</td>\n    </tr>\n    <tr>\n      <th>126</th>\n      <td>Steins;Gate: Oukoubakko no Poriomania</td>\n      <td>Sci-Fi, Thriller</td>\n      <td>8.342360</td>\n    </tr>\n    <tr>\n      <th>196</th>\n      <td>Steins;Gate: Kyoukaimenjou no Missing Link - D...</td>\n      <td>Sci-Fi, Thriller</td>\n      <td>7.946121</td>\n    </tr>\n  </tbody>\n</table>\n</div>"
     },
     "metadata": {},
     "execution_count": 74
    }
   ],
   "source": [
    "anime_recommendation(\"Steins;Gate\")"
   ]
  },
  {
   "cell_type": "markdown",
   "metadata": {},
   "source": [
    "We see that it is very reasonable that Steins;Gate 0 is the most similar anime, because it is the alternate endign of Steins;Gate. The rating is very low because Steins;Gate 0 was a new anime when the data is collected."
   ]
  }
 ],
 "metadata": {
  "language_info": {
   "codemirror_mode": {
    "name": "ipython",
    "version": 3
   },
   "file_extension": ".py",
   "mimetype": "text/x-python",
   "name": "python",
   "nbconvert_exporter": "python",
   "pygments_lexer": "ipython3",
   "version": "3.8.2-final"
  },
  "orig_nbformat": 2,
  "kernelspec": {
   "name": "python38264bitrecvenv8fa2ea0e92e646cab1cb384629e210c4",
   "display_name": "Python 3.8.2 64-bit ('rec': venv)"
  }
 },
 "nbformat": 4,
 "nbformat_minor": 2
}